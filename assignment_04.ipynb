{
 "cells": [
  {
   "cell_type": "markdown",
   "metadata": {},
   "source": [
    "### Assignment 4"
   ]
  },
  {
   "cell_type": "markdown",
   "metadata": {},
   "source": [
    "Q1.1:Write a Python Program(with class concepts) to find the area of the triangle using the below\n",
    "formula.\n",
    "\n",
    "area = (s*(s-a)*(s-b)*(s-c)) ** 0.5\n",
    "\n",
    "Function to take the length of the sides of triangle from user should be defined in the parent\n",
    "class and function to calculate the area should be defined in subclass."
   ]
  },
  {
   "cell_type": "code",
   "execution_count": 1,
   "metadata": {},
   "outputs": [
    {
     "name": "stdout",
     "output_type": "stream",
     "text": [
      "The area of the triangle is 7.81\n"
     ]
    }
   ],
   "source": [
    "class Triangle:\n",
    "    def __init__(self,a,b,c):\n",
    "        self.a = a #side\n",
    "        self.b = b #side\n",
    "        self.c = c #side\n",
    "\n",
    "class Area(Triangle):\n",
    "    def __init__(self,a,b,c):\n",
    "        super(Area, self).__init__(a,b,c)\n",
    "        \n",
    "    def get_area(self):\n",
    "        # calculate the semi-perimeter\n",
    "        s = (self.a + self.b + self.c) / 2\n",
    "        # calculate the area and return the value\n",
    "        return (s*(s-self.a)*(s-self.b)*(s-self.c)) ** 0.5\n",
    "    \n",
    "instance = Area(4,4,5)\n",
    "print('The area of the triangle is %0.2f' %instance.get_area())"
   ]
  },
  {
   "cell_type": "markdown",
   "metadata": {},
   "source": [
    "Q1.2:Write a function filter_long_words() that takes a list of words and an integer n and returns\n",
    "the list of words that are longer than n."
   ]
  },
  {
   "cell_type": "code",
   "execution_count": 2,
   "metadata": {},
   "outputs": [
    {
     "name": "stdout",
     "output_type": "stream",
     "text": [
      "Enter the words: machine learning data science deep learning\n",
      "Enter min length: 5\n",
      "The words with min words are ['machine', 'learning', 'science', 'learning']\n"
     ]
    }
   ],
   "source": [
    "def filter_long_words(word_list,n):\n",
    "    words=[]\n",
    "    for i in word_list:\n",
    "        if(len(i)>=n):\n",
    "            words.append(i)\n",
    "    return words\n",
    "\n",
    "word = input(\"Enter the words: \")\n",
    "word_list = word.split(\" \")\n",
    "n = int(input(\"Enter min length: \"))\n",
    "long = filter_long_words(word_list,n)\n",
    "\n",
    "print(f'The words with min words are {long}')"
   ]
  },
  {
   "cell_type": "markdown",
   "metadata": {},
   "source": [
    "Q2.1:Write a Python program using function concept that maps list of words into a list of integers\n",
    "representing the lengths of the corresponding words.\n",
    "\n",
    "Hint: If a list [ ab,cde,erty] is passed on to the python function output should come as [2,3,4]\n",
    "Here 2,3 and 4 are the lengths of the words in the list."
   ]
  },
  {
   "cell_type": "code",
   "execution_count": 3,
   "metadata": {},
   "outputs": [
    {
     "name": "stdout",
     "output_type": "stream",
     "text": [
      "The length of each word in the list is [2, 3, 4]\n"
     ]
    }
   ],
   "source": [
    "myList = ['ab','cde','erty']\n",
    "\n",
    "def wordLength(myList):\n",
    "    wordLen = []\n",
    "    for i in myList:\n",
    "        wordLen.append(len(i))\n",
    "    return wordLen\n",
    "\n",
    "wl = wordLength(myList)\n",
    "\n",
    "print(f'The length of each word in the list is {wl}')"
   ]
  },
  {
   "cell_type": "markdown",
   "metadata": {},
   "source": [
    "Q2.2:Write a Python function which takes a character (i.e. a string of length 1) and returns True if\n",
    "it is a vowel, False otherwise."
   ]
  },
  {
   "cell_type": "code",
   "execution_count": 4,
   "metadata": {},
   "outputs": [
    {
     "name": "stdout",
     "output_type": "stream",
     "text": [
      "True\n",
      "True\n",
      "False\n"
     ]
    }
   ],
   "source": [
    "def isVowel(char):\n",
    "    # char = input(\"Enter the char: \")\n",
    "    if len(char)==1:\n",
    "        return char.lower() in 'aeiou'\n",
    "    #else:\n",
    "        #print(\"Enter Single char\")\n",
    "\n",
    "print(isVowel('a'))\n",
    "print(isVowel('A'))\n",
    "print(isVowel('d'))"
   ]
  },
  {
   "cell_type": "code",
   "execution_count": null,
   "metadata": {},
   "outputs": [],
   "source": []
  }
 ],
 "metadata": {
  "kernelspec": {
   "display_name": "Python 3",
   "language": "python",
   "name": "python3"
  },
  "language_info": {
   "codemirror_mode": {
    "name": "ipython",
    "version": 3
   },
   "file_extension": ".py",
   "mimetype": "text/x-python",
   "name": "python",
   "nbconvert_exporter": "python",
   "pygments_lexer": "ipython3",
   "version": "3.7.4"
  }
 },
 "nbformat": 4,
 "nbformat_minor": 2
}
